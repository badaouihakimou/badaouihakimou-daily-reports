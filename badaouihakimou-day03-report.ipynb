{
 "cells": [
  {
   "cell_type": "markdown",
   "id": "cafbf862",
   "metadata": {},
   "source": [
    "## Strings and files "
   ]
  },
  {
   "cell_type": "code",
   "execution_count": 5,
   "id": "3ed3281e",
   "metadata": {},
   "outputs": [],
   "source": [
    "string_1 = \"Will you be at the meeting tonight ?\"\n",
    "\n",
    "string_2 = '\"yes\", he replies.\"'"
   ]
  },
  {
   "cell_type": "code",
   "execution_count": 6,
   "id": "2a6e3eee",
   "metadata": {},
   "outputs": [
    {
     "name": "stdout",
     "output_type": "stream",
     "text": [
      "Will you be at the meeting tonight?\n"
     ]
    }
   ],
   "source": [
    "print(string_1)"
   ]
  },
  {
   "cell_type": "code",
   "execution_count": 7,
   "id": "5ffff2f7",
   "metadata": {},
   "outputs": [
    {
     "name": "stdout",
     "output_type": "stream",
     "text": [
      "\"yes\", he replies.\"\n"
     ]
    }
   ],
   "source": [
    "print(string_2)"
   ]
  },
  {
   "cell_type": "markdown",
   "id": "e3b16b31",
   "metadata": {},
   "source": [
    "### Indexing "
   ]
  },
  {
   "cell_type": "code",
   "execution_count": 8,
   "id": "90f1419a",
   "metadata": {},
   "outputs": [
    {
     "data": {
      "text/plain": [
       "'W'"
      ]
     },
     "execution_count": 8,
     "metadata": {},
     "output_type": "execute_result"
    }
   ],
   "source": [
    "string_1[0]"
   ]
  },
  {
   "cell_type": "code",
   "execution_count": 9,
   "id": "86ce6c00",
   "metadata": {},
   "outputs": [
    {
     "data": {
      "text/plain": [
       "'l'"
      ]
     },
     "execution_count": 9,
     "metadata": {},
     "output_type": "execute_result"
    }
   ],
   "source": [
    "string_1[2]"
   ]
  },
  {
   "cell_type": "code",
   "execution_count": 12,
   "id": "a29cc53d",
   "metadata": {},
   "outputs": [
    {
     "name": "stdout",
     "output_type": "stream",
     "text": [
      "Will you be at the meeting tonight?\n",
      "The second character of my string is:  i\n"
     ]
    }
   ],
   "source": [
    "print(string_1)\n",
    "print(\"The second character of my string is : \", string_1[1])"
   ]
  },
  {
   "cell_type": "code",
   "execution_count": 13,
   "id": "c25e1030",
   "metadata": {},
   "outputs": [
    {
     "name": "stdout",
     "output_type": "stream",
     "text": [
      "Will you be at the meeting tonight?\n",
      "The second character of my string is :  ?\n"
     ]
    }
   ],
   "source": [
    "print(string_1)\n",
    "print(\"The second character of my string is : \", string_1[-1])"
   ]
  },
  {
   "cell_type": "markdown",
   "id": "17785bdc",
   "metadata": {},
   "source": [
    "### Slicing \n",
    "```python \n",
    "   string[star:stop:step]\n",
    "```"
   ]
  },
  {
   "cell_type": "code",
   "execution_count": 14,
   "id": "5115c312",
   "metadata": {},
   "outputs": [
    {
     "name": "stdout",
     "output_type": "stream",
     "text": [
      "Will you be at the meeting tonight?\n"
     ]
    },
    {
     "data": {
      "text/plain": [
       "'l o'"
      ]
     },
     "execution_count": 14,
     "metadata": {},
     "output_type": "execute_result"
    }
   ],
   "source": [
    "print(string_1)\n",
    "string_1[2:8:2]"
   ]
  },
  {
   "cell_type": "code",
   "execution_count": 16,
   "id": "419c1871",
   "metadata": {},
   "outputs": [
    {
     "data": {
      "text/plain": [
       "'hjh'"
      ]
     },
     "execution_count": 16,
     "metadata": {},
     "output_type": "execute_result"
    }
   ],
   "source": [
    "string_3 = 'abcdefghijkl'\n",
    "string_3[2:8:2]"
   ]
  },
  {
   "cell_type": "code",
   "execution_count": 17,
   "id": "8f0972da",
   "metadata": {},
   "outputs": [
    {
     "data": {
      "text/plain": [
       "'cdefgh'"
      ]
     },
     "execution_count": 17,
     "metadata": {},
     "output_type": "execute_result"
    }
   ],
   "source": [
    "string_3 = 'abcdefghijkl'\n",
    "string_3[2:8:]"
   ]
  },
  {
   "cell_type": "code",
   "execution_count": 20,
   "id": "1b063d91",
   "metadata": {},
   "outputs": [
    {
     "data": {
      "text/plain": [
       "'cdefghijkl'"
      ]
     },
     "execution_count": 20,
     "metadata": {},
     "output_type": "execute_result"
    }
   ],
   "source": [
    "string_3 = 'abcdefghijkl'\n",
    "string_3[2::]"
   ]
  },
  {
   "cell_type": "code",
   "execution_count": 22,
   "id": "3669da73",
   "metadata": {},
   "outputs": [
    {
     "data": {
      "text/plain": [
       "'abcdefghijkl'"
      ]
     },
     "execution_count": 22,
     "metadata": {},
     "output_type": "execute_result"
    }
   ],
   "source": [
    "string_3 = 'abcdefghijkl'\n",
    "string_3[::]"
   ]
  },
  {
   "cell_type": "code",
   "execution_count": 21,
   "id": "5bd61cff",
   "metadata": {},
   "outputs": [
    {
     "data": {
      "text/plain": [
       "'abcdefghijkl'"
      ]
     },
     "execution_count": 21,
     "metadata": {},
     "output_type": "execute_result"
    }
   ],
   "source": [
    "string_3 = 'abcdefghijkl'\n",
    "string_3[:]"
   ]
  },
  {
   "cell_type": "code",
   "execution_count": 23,
   "id": "a10283ee",
   "metadata": {},
   "outputs": [
    {
     "data": {
      "text/plain": [
       "'abcdefghijkl'"
      ]
     },
     "execution_count": 23,
     "metadata": {},
     "output_type": "execute_result"
    }
   ],
   "source": [
    "string_3 = 'abcdefghijkl'\n",
    "string_3[::1]"
   ]
  },
  {
   "cell_type": "code",
   "execution_count": 24,
   "id": "96588ffe",
   "metadata": {},
   "outputs": [
    {
     "data": {
      "text/plain": [
       "'ab'"
      ]
     },
     "execution_count": 24,
     "metadata": {},
     "output_type": "execute_result"
    }
   ],
   "source": [
    "string_3 = 'abcdefghijkl'\n",
    "string_3[:2]"
   ]
  },
  {
   "cell_type": "code",
   "execution_count": 25,
   "id": "f67fc681",
   "metadata": {},
   "outputs": [
    {
     "data": {
      "text/plain": [
       "'acegik'"
      ]
     },
     "execution_count": 25,
     "metadata": {},
     "output_type": "execute_result"
    }
   ],
   "source": [
    "string_3 = 'abcdefghijkl'\n",
    "string_3[::2]"
   ]
  },
  {
   "cell_type": "code",
   "execution_count": 26,
   "id": "fff071cb",
   "metadata": {},
   "outputs": [
    {
     "data": {
      "text/plain": [
       "'defghijk'"
      ]
     },
     "execution_count": 26,
     "metadata": {},
     "output_type": "execute_result"
    }
   ],
   "source": [
    "string_3 = 'abcdefghijkl'\n",
    "string_3[3:-1]"
   ]
  },
  {
   "cell_type": "code",
   "execution_count": 27,
   "id": "0d59c178",
   "metadata": {},
   "outputs": [
    {
     "data": {
      "text/plain": [
       "19"
      ]
     },
     "execution_count": 27,
     "metadata": {},
     "output_type": "execute_result"
    }
   ],
   "source": [
    "len(string_2)"
   ]
  },
  {
   "cell_type": "markdown",
   "id": "173ddb1b",
   "metadata": {},
   "source": [
    "#### Concatenation"
   ]
  },
  {
   "cell_type": "code",
   "execution_count": 29,
   "id": "988c7cf7",
   "metadata": {},
   "outputs": [
    {
     "name": "stdout",
     "output_type": "stream",
     "text": [
      "Hello, world\n",
      "worldHello, \n"
     ]
    }
   ],
   "source": [
    "my_var_1 = \"Hello, \"\n",
    "\n",
    "my_var_2 = 'world'\n",
    "\n",
    "concat = my_var_1 + my_var_2\n",
    "\n",
    "concat1 = my_var_2 + my_var_1\n",
    "\n",
    "\n",
    "print(concat)\n",
    "\n",
    "print(concat1)"
   ]
  },
  {
   "cell_type": "code",
   "execution_count": 33,
   "id": "ff7e7506",
   "metadata": {},
   "outputs": [
    {
     "name": "stdout",
     "output_type": "stream",
     "text": [
      "world\n"
     ]
    }
   ],
   "source": [
    "print(my_var_2)"
   ]
  },
  {
   "cell_type": "code",
   "execution_count": 34,
   "id": "33497495",
   "metadata": {},
   "outputs": [
    {
     "name": "stdout",
     "output_type": "stream",
     "text": [
      "worldworld\n"
     ]
    }
   ],
   "source": [
    "print(2*my_var_2)"
   ]
  },
  {
   "cell_type": "code",
   "execution_count": 38,
   "id": "6d8f7ae6",
   "metadata": {},
   "outputs": [
    {
     "ename": "TypeError",
     "evalue": "can't multiply sequence by non-int of type 'float'",
     "output_type": "error",
     "traceback": [
      "\u001b[0;31m---------------------------------------------------------------------------\u001b[0m",
      "\u001b[0;31mTypeError\u001b[0m                                 Traceback (most recent call last)",
      "\u001b[0;32m/tmp/ipykernel_33532/4071561884.py\u001b[0m in \u001b[0;36m<module>\u001b[0;34m\u001b[0m\n\u001b[0;32m----> 1\u001b[0;31m \u001b[0mprint\u001b[0m\u001b[0;34m(\u001b[0m\u001b[0;36m2.5\u001b[0m\u001b[0;34m*\u001b[0m\u001b[0mmy_var_2\u001b[0m\u001b[0;34m)\u001b[0m\u001b[0;34m\u001b[0m\u001b[0;34m\u001b[0m\u001b[0m\n\u001b[0m",
      "\u001b[0;31mTypeError\u001b[0m: can't multiply sequence by non-int of type 'float'"
     ]
    }
   ],
   "source": [
    "print(2.5*my_var_2)"
   ]
  },
  {
   "cell_type": "code",
   "execution_count": 39,
   "id": "ec3632d5",
   "metadata": {},
   "outputs": [
    {
     "ename": "TypeError",
     "evalue": "can't multiply sequence by non-int of type 'float'",
     "output_type": "error",
     "traceback": [
      "\u001b[0;31m---------------------------------------------------------------------------\u001b[0m",
      "\u001b[0;31mTypeError\u001b[0m                                 Traceback (most recent call last)",
      "\u001b[0;32m/tmp/ipykernel_33532/2315498230.py\u001b[0m in \u001b[0;36m<module>\u001b[0;34m\u001b[0m\n\u001b[0;32m----> 1\u001b[0;31m \u001b[0mprint\u001b[0m\u001b[0;34m(\u001b[0m\u001b[0;36m2.\u001b[0m\u001b[0;34m*\u001b[0m\u001b[0mmy_var_2\u001b[0m\u001b[0;34m)\u001b[0m\u001b[0;34m\u001b[0m\u001b[0;34m\u001b[0m\u001b[0m\n\u001b[0m",
      "\u001b[0;31mTypeError\u001b[0m: can't multiply sequence by non-int of type 'float'"
     ]
    }
   ],
   "source": [
    "print(2.*my_var_2)"
   ]
  },
  {
   "cell_type": "code",
   "execution_count": 36,
   "id": "226a3cab",
   "metadata": {},
   "outputs": [
    {
     "ename": "TypeError",
     "evalue": "unsupported operand type(s) for /: 'str' and 'int'",
     "output_type": "error",
     "traceback": [
      "\u001b[0;31m---------------------------------------------------------------------------\u001b[0m",
      "\u001b[0;31mTypeError\u001b[0m                                 Traceback (most recent call last)",
      "\u001b[0;32m/tmp/ipykernel_33532/606609501.py\u001b[0m in \u001b[0;36m<module>\u001b[0;34m\u001b[0m\n\u001b[1;32m      1\u001b[0m \u001b[0ma\u001b[0m \u001b[0;34m=\u001b[0m \u001b[0;34m\"abcdef\"\u001b[0m\u001b[0;34m\u001b[0m\u001b[0;34m\u001b[0m\u001b[0m\n\u001b[0;32m----> 2\u001b[0;31m \u001b[0mprint\u001b[0m\u001b[0;34m(\u001b[0m\u001b[0ma\u001b[0m\u001b[0;34m/\u001b[0m\u001b[0;36m2\u001b[0m\u001b[0;34m)\u001b[0m\u001b[0;34m\u001b[0m\u001b[0;34m\u001b[0m\u001b[0m\n\u001b[0m",
      "\u001b[0;31mTypeError\u001b[0m: unsupported operand type(s) for /: 'str' and 'int'"
     ]
    }
   ],
   "source": [
    "a = \"abcdef\"\n",
    "print(a/2)"
   ]
  },
  {
   "cell_type": "code",
   "execution_count": 40,
   "id": "9e8bd57f",
   "metadata": {},
   "outputs": [
    {
     "data": {
      "text/plain": [
       "True"
      ]
     },
     "execution_count": 40,
     "metadata": {},
     "output_type": "execute_result"
    }
   ],
   "source": [
    "2 == 2.0"
   ]
  },
  {
   "cell_type": "code",
   "execution_count": 42,
   "id": "55a7c3da",
   "metadata": {},
   "outputs": [],
   "source": [
    "?my_var_2.capitalize"
   ]
  },
  {
   "cell_type": "code",
   "execution_count": 47,
   "id": "e6ccdcca",
   "metadata": {},
   "outputs": [
    {
     "name": "stdout",
     "output_type": "stream",
     "text": [
      "world\n"
     ]
    }
   ],
   "source": [
    "my_var_2.capitalize()\n",
    "print(my_var_2)"
   ]
  },
  {
   "cell_type": "code",
   "execution_count": 77,
   "id": "d01d08eb",
   "metadata": {},
   "outputs": [
    {
     "data": {
      "text/plain": [
       "True"
      ]
     },
     "execution_count": 77,
     "metadata": {},
     "output_type": "execute_result"
    }
   ],
   "source": [
    "amar = \"Ammar\"\n",
    "amar.capitalize() == amar.title() \n",
    "# First Letter in capital and the other in minuscule for the two function capitalize and title"
   ]
  },
  {
   "cell_type": "code",
   "execution_count": 78,
   "id": "0a179955",
   "metadata": {},
   "outputs": [],
   "source": [
    "?amar.casefold\n",
    "# Put all the string in minuscule "
   ]
  },
  {
   "cell_type": "code",
   "execution_count": 79,
   "id": "54d02d3c",
   "metadata": {},
   "outputs": [
    {
     "data": {
      "text/plain": [
       "True"
      ]
     },
     "execution_count": 79,
     "metadata": {},
     "output_type": "execute_result"
    }
   ],
   "source": [
    "amar.casefold() == amar.lower()"
   ]
  },
  {
   "cell_type": "code",
   "execution_count": 80,
   "id": "38aece8b",
   "metadata": {},
   "outputs": [],
   "source": [
    "?amar.center"
   ]
  },
  {
   "cell_type": "code",
   "execution_count": 103,
   "id": "6aa71e3f",
   "metadata": {},
   "outputs": [
    {
     "name": "stdout",
     "output_type": "stream",
     "text": [
      "Ammar\n",
      "Ammar\n",
      "Ammar\n",
      "Ammar\n",
      "Ammar\n",
      "Ammar \n",
      " Ammar \n",
      " Ammar  \n",
      "  Ammar  \n",
      "  Ammar   \n",
      "   Ammar   \n",
      "   Ammar    \n",
      "    Ammar    \n",
      "    Ammar     \n",
      "     Ammar     \n",
      "     Ammar      \n",
      "      Ammar      \n",
      "      Ammar       \n",
      "       Ammar       \n",
      "       Ammar        \n",
      "        Ammar        \n",
      "        Ammar         \n"
     ]
    }
   ],
   "source": [
    "print(amar.center(1))\n",
    "print(amar.center(2))\n",
    "print(amar.center(3))\n",
    "print(amar.center(4))\n",
    "print(amar.center(5))\n",
    "print(amar.center(6))\n",
    "print(amar.center(7))\n",
    "print(amar.center(8))\n",
    "print(amar.center(9))\n",
    "print(amar.center(10))\n",
    "print(amar.center(11))\n",
    "print(amar.center(12))\n",
    "print(amar.center(13))\n",
    "print(amar.center(14))\n",
    "print(amar.center(15))\n",
    "print(amar.center(16))\n",
    "print(amar.center(17))\n",
    "print(amar.center(18))\n",
    "print(amar.center(19))\n",
    "print(amar.center(20))\n",
    "print(amar.center(21))\n",
    "print(amar.center(22))"
   ]
  },
  {
   "cell_type": "code",
   "execution_count": 106,
   "id": "0496fd8f",
   "metadata": {},
   "outputs": [
    {
     "name": "stdout",
     "output_type": "stream",
     "text": [
      "Ammar\n",
      "Ammar\n",
      "Ammar\n",
      "Ammar\n",
      "Ammar\n",
      "Ammar\n",
      "Ammar \n",
      " Ammar \n",
      " Ammar  \n",
      "  Ammar  \n",
      "  Ammar   \n",
      "   Ammar   \n",
      "   Ammar    \n",
      "    Ammar    \n",
      "    Ammar     \n",
      "     Ammar     \n",
      "     Ammar      \n",
      "      Ammar      \n",
      "      Ammar       \n",
      "       Ammar       \n",
      "       Ammar        \n",
      "        Ammar        \n",
      "        Ammar         \n",
      "         Ammar         \n",
      "         Ammar          \n",
      "          Ammar          \n",
      "          Ammar           \n",
      "           Ammar           \n",
      "           Ammar            \n",
      "            Ammar            \n",
      "            Ammar             \n",
      "             Ammar             \n",
      "             Ammar              \n",
      "              Ammar              \n",
      "              Ammar               \n",
      "               Ammar               \n",
      "               Ammar                \n",
      "                Ammar                \n",
      "                Ammar                 \n",
      "                 Ammar                 \n",
      "                 Ammar                  \n",
      "                  Ammar                  \n",
      "                  Ammar                   \n",
      "                   Ammar                   \n",
      "                   Ammar                    \n",
      "                    Ammar                    \n",
      "                    Ammar                     \n",
      "                     Ammar                     \n",
      "                     Ammar                      \n",
      "                      Ammar                      \n",
      "                      Ammar                       \n",
      "                       Ammar                       \n",
      "                       Ammar                        \n",
      "                        Ammar                        \n",
      "                        Ammar                         \n",
      "                         Ammar                         \n",
      "                         Ammar                          \n",
      "                          Ammar                          \n",
      "                          Ammar                           \n",
      "                           Ammar                           \n",
      "                           Ammar                            \n",
      "                            Ammar                            \n",
      "                            Ammar                             \n",
      "                             Ammar                             \n",
      "                             Ammar                              \n",
      "                              Ammar                              \n",
      "                              Ammar                               \n",
      "                               Ammar                               \n",
      "                               Ammar                                \n",
      "                                Ammar                                \n",
      "                                Ammar                                 \n",
      "                                 Ammar                                 \n",
      "                                 Ammar                                  \n",
      "                                  Ammar                                  \n",
      "                                  Ammar                                   \n",
      "                                   Ammar                                   \n",
      "                                   Ammar                                    \n",
      "                                    Ammar                                    \n",
      "                                    Ammar                                     \n",
      "                                     Ammar                                     \n",
      "                                     Ammar                                      \n",
      "                                      Ammar                                      \n",
      "                                      Ammar                                       \n",
      "                                       Ammar                                       \n",
      "                                       Ammar                                        \n",
      "                                        Ammar                                        \n",
      "                                        Ammar                                         \n",
      "                                         Ammar                                         \n",
      "                                         Ammar                                          \n",
      "                                          Ammar                                          \n",
      "                                          Ammar                                           \n",
      "                                           Ammar                                           \n",
      "                                           Ammar                                            \n",
      "                                            Ammar                                            \n",
      "                                            Ammar                                             \n",
      "                                             Ammar                                             \n",
      "                                             Ammar                                              \n",
      "                                              Ammar                                              \n",
      "                                              Ammar                                               \n",
      "                                               Ammar                                               \n",
      "                                               Ammar                                                \n",
      "                                                Ammar                                                \n",
      "                                                Ammar                                                 \n",
      "                                                 Ammar                                                 \n",
      "                                                 Ammar                                                  \n",
      "                                                  Ammar                                                  \n",
      "                                                  Ammar                                                   \n",
      "                                                   Ammar                                                   \n",
      "                                                   Ammar                                                    \n",
      "                                                    Ammar                                                    \n",
      "                                                    Ammar                                                     \n",
      "                                                     Ammar                                                     \n",
      "                                                     Ammar                                                      \n",
      "                                                      Ammar                                                      \n",
      "                                                      Ammar                                                       \n",
      "                                                       Ammar                                                       \n",
      "                                                       Ammar                                                        \n",
      "                                                        Ammar                                                        \n",
      "                                                        Ammar                                                         \n",
      "                                                         Ammar                                                         \n",
      "                                                         Ammar                                                          \n",
      "                                                          Ammar                                                          \n",
      "                                                          Ammar                                                           \n",
      "                                                           Ammar                                                           \n",
      "                                                           Ammar                                                            \n",
      "                                                            Ammar                                                            \n",
      "                                                            Ammar                                                             \n",
      "                                                             Ammar                                                             \n",
      "                                                             Ammar                                                              \n",
      "                                                              Ammar                                                              \n",
      "                                                              Ammar                                                               \n",
      "                                                               Ammar                                                               \n",
      "                                                               Ammar                                                                \n",
      "                                                                Ammar                                                                \n",
      "                                                                Ammar                                                                 \n",
      "                                                                 Ammar                                                                 \n",
      "                                                                 Ammar                                                                  \n",
      "                                                                  Ammar                                                                  \n",
      "                                                                  Ammar                                                                   \n",
      "                                                                   Ammar                                                                   \n",
      "                                                                   Ammar                                                                    \n",
      "                                                                    Ammar                                                                    \n",
      "                                                                    Ammar                                                                     \n",
      "                                                                     Ammar                                                                     \n",
      "                                                                     Ammar                                                                      \n",
      "                                                                      Ammar                                                                      \n",
      "                                                                      Ammar                                                                       \n",
      "                                                                       Ammar                                                                       \n",
      "                                                                       Ammar                                                                        \n",
      "                                                                        Ammar                                                                        \n"
     ]
    }
   ],
   "source": [
    "for i in range(150) :\n",
    "    print(amar.center(i))"
   ]
  },
  {
   "cell_type": "code",
   "execution_count": 82,
   "id": "2df6ace7",
   "metadata": {},
   "outputs": [],
   "source": [
    "?amar.count"
   ]
  },
  {
   "cell_type": "code",
   "execution_count": 92,
   "id": "96c8e95e",
   "metadata": {},
   "outputs": [
    {
     "data": {
      "text/plain": [
       "2"
      ]
     },
     "execution_count": 92,
     "metadata": {},
     "output_type": "execute_result"
    }
   ],
   "source": [
    "amar.count(\"m\", 0, len(amar)-1)\n",
    "# count count the number of the string you put by precison of where the count start and where it's finished "
   ]
  },
  {
   "cell_type": "code",
   "execution_count": 102,
   "id": "6fcc48d7",
   "metadata": {},
   "outputs": [
    {
     "data": {
      "text/plain": [
       "1"
      ]
     },
     "execution_count": 102,
     "metadata": {},
     "output_type": "execute_result"
    }
   ],
   "source": [
    "ammar = \"aaaabbbbcccc\"\n",
    "amar.count('a', 0, len(ammar)-1)"
   ]
  },
  {
   "cell_type": "code",
   "execution_count": 107,
   "id": "c8888fe4",
   "metadata": {},
   "outputs": [],
   "source": [
    "# create a texte file \n",
    "# put the for line \n"
   ]
  },
  {
   "cell_type": "code",
   "execution_count": 126,
   "id": "af5db1f6",
   "metadata": {},
   "outputs": [
    {
     "ename": "NameError",
     "evalue": "name 'testfile' is not defined",
     "output_type": "error",
     "traceback": [
      "\u001b[0;31m---------------------------------------------------------------------------\u001b[0m",
      "\u001b[0;31mNameError\u001b[0m                                 Traceback (most recent call last)",
      "\u001b[0;32m/tmp/ipykernel_33532/3698100740.py\u001b[0m in \u001b[0;36m<module>\u001b[0;34m\u001b[0m\n\u001b[0;32m----> 1\u001b[0;31m \u001b[0mtestfile\u001b[0m\u001b[0;34m.\u001b[0m\u001b[0mtxt\u001b[0m\u001b[0;34m\u001b[0m\u001b[0;34m\u001b[0m\u001b[0m\n\u001b[0m",
      "\u001b[0;31mNameError\u001b[0m: name 'testfile' is not defined"
     ]
    }
   ],
   "source": [
    "testfile.txt "
   ]
  },
  {
   "cell_type": "code",
   "execution_count": 127,
   "id": "51606069",
   "metadata": {},
   "outputs": [
    {
     "name": "stdout",
     "output_type": "stream",
     "text": [
      "abdelhakim.moustapha-day01-report.ipynb\r\n",
      "\u001b[0m\u001b[01;35mabdel.JPG\u001b[0m\r\n",
      "\u001b[01;35mcommand_mode.png\u001b[0m\r\n",
      "day03.ipynb\r\n",
      "\u001b[01;35medit_mode.png\u001b[0m\r\n",
      "\u001b[01;35mEmily.png\u001b[0m\r\n",
      "\u001b[01;35mmenubar_toolbar.png\u001b[0m\r\n",
      "PyPro-SCiDaS-day_00_introduction_to_jupyter_notebooks.ipynb\r\n",
      "PyPro-SCiDaS-day_01a_introduction_to_python.ipynb\r\n",
      "PyPro-SCiDaS-day_01b_variables-and-assignment.ipynb\r\n",
      "testfile.txt\r\n",
      "Tutorial_1.ipynb\r\n"
     ]
    }
   ],
   "source": [
    "ls"
   ]
  },
  {
   "cell_type": "code",
   "execution_count": null,
   "id": "57d2d799",
   "metadata": {},
   "outputs": [],
   "source": [
    "# %load testfile.txt\n",
    "fghij\n",
    "aims class\n",
    "Rwanda 2025\n",
    "this is really cool\n"
   ]
  },
  {
   "cell_type": "code",
   "execution_count": null,
   "id": "e3d6db94",
   "metadata": {},
   "outputs": [],
   "source": [
    "# %load testfile.txt\n",
    "fghij\n",
    "aims class\n",
    "Rwanda 2025\n",
    "this is really cool"
   ]
  },
  {
   "cell_type": "code",
   "execution_count": 132,
   "id": "54a15c40",
   "metadata": {},
   "outputs": [],
   "source": [
    "f= open('testfile.txt','r')"
   ]
  },
  {
   "cell_type": "code",
   "execution_count": 133,
   "id": "d3c9f8cb",
   "metadata": {},
   "outputs": [
    {
     "data": {
      "text/plain": [
       "_io.TextIOWrapper"
      ]
     },
     "execution_count": 133,
     "metadata": {},
     "output_type": "execute_result"
    }
   ],
   "source": [
    "type(f)"
   ]
  },
  {
   "cell_type": "code",
   "execution_count": 134,
   "id": "e1b92669",
   "metadata": {},
   "outputs": [
    {
     "data": {
      "text/plain": [
       "['fghij\\n', 'aims class\\n', 'Rwanda 2025\\n', 'this is really cool\\n']"
      ]
     },
     "execution_count": 134,
     "metadata": {},
     "output_type": "execute_result"
    }
   ],
   "source": [
    "f.readlines()"
   ]
  },
  {
   "cell_type": "code",
   "execution_count": null,
   "id": "09f63f5f",
   "metadata": {},
   "outputs": [],
   "source": []
  },
  {
   "cell_type": "code",
   "execution_count": 138,
   "id": "fb6118f8",
   "metadata": {},
   "outputs": [],
   "source": [
    "for i in f :\n",
    "    print(i)"
   ]
  },
  {
   "cell_type": "code",
   "execution_count": null,
   "id": "83834e7b",
   "metadata": {},
   "outputs": [],
   "source": [
    "f.close()"
   ]
  },
  {
   "cell_type": "code",
   "execution_count": 139,
   "id": "19bebb4f",
   "metadata": {},
   "outputs": [
    {
     "data": {
      "text/plain": [
       "''"
      ]
     },
     "execution_count": 139,
     "metadata": {},
     "output_type": "execute_result"
    }
   ],
   "source": [
    "f.read()"
   ]
  },
  {
   "cell_type": "code",
   "execution_count": 143,
   "id": "0fa8a461",
   "metadata": {},
   "outputs": [],
   "source": [
    "to_write_to_file = open('testfile.txt','w')"
   ]
  },
  {
   "cell_type": "code",
   "execution_count": 144,
   "id": "1c7cdc7d",
   "metadata": {},
   "outputs": [
    {
     "data": {
      "text/plain": [
       "16"
      ]
     },
     "execution_count": 144,
     "metadata": {},
     "output_type": "execute_result"
    }
   ],
   "source": [
    "to_write_to_file.write(\"This is thursday\")"
   ]
  },
  {
   "cell_type": "code",
   "execution_count": 146,
   "id": "7f030d24",
   "metadata": {},
   "outputs": [],
   "source": [
    "to_write_to_file.close()"
   ]
  },
  {
   "cell_type": "code",
   "execution_count": null,
   "id": "7994b63d",
   "metadata": {},
   "outputs": [],
   "source": [
    "# %load testfile.txt\n",
    "This is thursday"
   ]
  },
  {
   "cell_type": "code",
   "execution_count": 159,
   "id": "0f3059a0",
   "metadata": {},
   "outputs": [],
   "source": [
    "to_write = open('outfile.txt','w')\n",
    "to_write.write(\"This is thursday1\\n\")\n",
    "to_write.write(\"This is thursday2\\n\")\n",
    "to_write.write(\"This is thursday3\\n\")\n",
    "to_write.write(\"This is thursday4\\n\")\n",
    "to_write.write(\"This is thursday5\\n\")\n",
    "to_write.write(\"This is thursday6\\n\")\n",
    "to_write.write(\"This is thursday7\\n\")\n",
    "to_write.write(\"This is thursday8\\n\")\n",
    "to_write.write(\"This is thursday9\\n\")\n",
    "to_write.close()"
   ]
  },
  {
   "cell_type": "code",
   "execution_count": 160,
   "id": "fa2d0992",
   "metadata": {},
   "outputs": [
    {
     "data": {
      "text/plain": [
       "['This is thursday1\\n',\n",
       " 'This is thursday2\\n',\n",
       " 'This is thursday3\\n',\n",
       " 'This is thursday4\\n',\n",
       " 'This is thursday5\\n',\n",
       " 'This is thursday6\\n',\n",
       " 'This is thursday7\\n',\n",
       " 'This is thursday8\\n',\n",
       " 'This is thursday9\\n']"
      ]
     },
     "execution_count": 160,
     "metadata": {},
     "output_type": "execute_result"
    }
   ],
   "source": [
    "to_write = open(\"outfile.txt\", 'r')\n",
    "to_write.readlines()"
   ]
  },
  {
   "cell_type": "code",
   "execution_count": null,
   "id": "910fab3e",
   "metadata": {},
   "outputs": [],
   "source": [
    "# %load outfile.txt\n",
    "This is thursday1"
   ]
  },
  {
   "cell_type": "code",
   "execution_count": null,
   "id": "0691e340",
   "metadata": {},
   "outputs": [],
   "source": [
    "# %load outfile.txt\n",
    "This is thursday1\n",
    "This is thursday2\n",
    "This is thursday3\n",
    "This is thursday4\n",
    "This is thursday5\n",
    "This is thursday6\n",
    "This is thursday7\n",
    "This is thursday8\n",
    "This is thursday9\n"
   ]
  },
  {
   "cell_type": "code",
   "execution_count": null,
   "id": "7fd3c184",
   "metadata": {},
   "outputs": [],
   "source": [
    "to_write = open(\"outfile.txt\", 'r')\n",
    "to_write.buffer # To check all Function we can use with file \n",
    "to_write.closed "
   ]
  },
  {
   "cell_type": "code",
   "execution_count": 162,
   "id": "546eff54",
   "metadata": {},
   "outputs": [
    {
     "name": "stdout",
     "output_type": "stream",
     "text": [
      "abdelhakim.moustapha-day01-report.ipynb\r\n",
      "\u001b[0m\u001b[01;35mabdel.JPG\u001b[0m\r\n",
      "\u001b[01;35mcommand_mode.png\u001b[0m\r\n",
      "day03.ipynb\r\n",
      "\u001b[01;35medit_mode.png\u001b[0m\r\n",
      "\u001b[01;35mEmily.png\u001b[0m\r\n",
      "\u001b[01;35mmenubar_toolbar.png\u001b[0m\r\n",
      "outfile.txt\r\n",
      "PyPro-SCiDaS-day_00_introduction_to_jupyter_notebooks.ipynb\r\n",
      "PyPro-SCiDaS-day_01a_introduction_to_python.ipynb\r\n",
      "PyPro-SCiDaS-day_01b_variables-and-assignment.ipynb\r\n",
      "testfile.txt\r\n",
      "Tutorial_1.ipynb\r\n"
     ]
    }
   ],
   "source": [
    "ls # To have a list of element of my current directory "
   ]
  },
  {
   "cell_type": "code",
   "execution_count": null,
   "id": "a7fcbb3f",
   "metadata": {},
   "outputs": [],
   "source": []
  },
  {
   "cell_type": "code",
   "execution_count": null,
   "id": "f57370b7",
   "metadata": {},
   "outputs": [],
   "source": []
  },
  {
   "cell_type": "code",
   "execution_count": null,
   "id": "6e8c9201",
   "metadata": {},
   "outputs": [],
   "source": []
  }
 ],
 "metadata": {
  "kernelspec": {
   "display_name": "Python 3",
   "language": "python",
   "name": "python3"
  },
  "language_info": {
   "codemirror_mode": {
    "name": "ipython",
    "version": 3
   },
   "file_extension": ".py",
   "mimetype": "text/x-python",
   "name": "python",
   "nbconvert_exporter": "python",
   "pygments_lexer": "ipython3",
   "version": "3.9.2"
  }
 },
 "nbformat": 4,
 "nbformat_minor": 5
}
